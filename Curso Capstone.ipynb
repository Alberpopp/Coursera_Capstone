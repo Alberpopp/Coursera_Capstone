{
    "cells": [
        {
            "cell_type": "markdown",
            "metadata": {},
            "source": "# Proyecto final \n## Ciencia de Datos Aplicada- Capstone"
        },
        {
            "cell_type": "markdown",
            "metadata": {},
            "source": "El siguiente notebook se utilizar\u00e1 para desarrollar el proyecto final del curso: Ciencia de Datos Aplicada, Curso Capstone."
        },
        {
            "cell_type": "code",
            "execution_count": 3,
            "metadata": {},
            "outputs": [],
            "source": "import pandas as pd\nimport numpy as np"
        },
        {
            "cell_type": "code",
            "execution_count": 4,
            "metadata": {},
            "outputs": [
                {
                    "name": "stdout",
                    "output_type": "stream",
                    "text": "\u00a1Hola, Proyecto Final del Curso!\n"
                }
            ],
            "source": "print(\"\u00a1Hola, Proyecto Final del Curso!\")"
        }
    ],
    "metadata": {
        "kernelspec": {
            "display_name": "Python 3.8",
            "language": "python",
            "name": "python3"
        },
        "language_info": {
            "codemirror_mode": {
                "name": "ipython",
                "version": 3
            },
            "file_extension": ".py",
            "mimetype": "text/x-python",
            "name": "python",
            "nbconvert_exporter": "python",
            "pygments_lexer": "ipython3",
            "version": "3.8.12"
        }
    },
    "nbformat": 4,
    "nbformat_minor": 1
}